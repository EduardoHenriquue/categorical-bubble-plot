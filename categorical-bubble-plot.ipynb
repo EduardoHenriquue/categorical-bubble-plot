{
 "cells": [
  {
   "cell_type": "markdown",
   "metadata": {},
   "source": [
    "# Categorical Bubble Plot"
   ]
  },
  {
   "cell_type": "code",
   "execution_count": null,
   "metadata": {},
   "outputs": [],
   "source": [
    "import pandas as pd\n",
    "import matplotlib.pyplot as plt\n",
    "import numpy as np\n",
    "import seaborn as sns\n",
    "from matplotlib import gridspec\n",
    "from matplotlib.pyplot import figure"
   ]
  },
  {
   "cell_type": "code",
   "execution_count": null,
   "metadata": {},
   "outputs": [],
   "source": [
    "# Arrays with categorical variables\n",
    "tech = ['Technique 1', 'Technique 2', 'Technique 3']\n",
    "level = ['Level 1', 'Level 2','Level 3', 'Level 4']\n",
    "category = ['Category 1','Category 2']\n",
    "\n",
    "# Values of each variable\n",
    "tech_count = [[3,6], [3, 8],[5,2]]\n",
    "level_count = [[2,9], [5, 4], [3, 0], [0, 6]]\n",
    "\n",
    "# Places values in a DataFrame and intersects with its variable\n",
    "df1 = pd.DataFrame(tech_count, columns=category, index=tech)\n",
    "df2 = pd.DataFrame(level_count, columns=category, index=level)\n",
    "\n",
    "# Create a figure and the subplots that will compose the Plot\n",
    "# sharex argument shares the axis X\n",
    "fig, (a1, a2) = plt.subplots(ncols=1, nrows=2, constrained_layout=True, sharex=True, figsize=(4,6.5))\n",
    "\n",
    "dfu = df1.unstack().reset_index()\n",
    "dfu.columns = list(\"XYS\")\n",
    "\n",
    "# Set bubbles size of the first plot\n",
    "dfu[\"S\"] *= 600\n",
    "\n",
    "# Set the bubbles of first plot\n",
    "a1.scatter(x=\"X\", y=\"Y\", s=\"S\", data=dfu, color='white', edgecolors='gray', linewidth=2, alpha=0.5)\n",
    "a1.margins(.3)\n",
    "\n",
    "dfu = df2.unstack().reset_index()\n",
    "dfu.columns = list(\"XYS\")\n",
    "\n",
    "# Set bubbles size of the second plot\n",
    "dfu[\"S\"] *= 600\n",
    "\n",
    "# Set the bubbles of first plot\n",
    "a2.scatter(x=\"X\", y=\"Y\", s=\"S\", data=dfu, color='white', edgecolors='gray', linewidth=2, alpha=0.5)\n",
    "a2.margins(.3)\n",
    "\n",
    "# Match the value with the bubbles of the first plot\n",
    "for i in range(len(tech)):\n",
    "    for j in range(len(category)):\n",
    "        # Verify if there is a number 0 and change for a blank value\n",
    "        s = int(tech_count[i][j]) if tech_count[i][j] != 0 else \" \"\n",
    "        # Set the bubble value\n",
    "        a1.annotate(s=s, xy=(category[j], tech[i]), ha='center', va='center', color='black', size=12)\n",
    "\n",
    "# Match the value with the bubbles of the second plot\n",
    "for i in range(len(level)):\n",
    "    for j in range(len(category)):\n",
    "        s = int(level_count[i][j]) if level_count[i][j] != 0 else \" \"\n",
    "        a2.annotate(s=s, xy=(category[j], level[i]), ha='center', va='center', color='black', size=12)\n",
    "        \n",
    "# Set the plot labels\n",
    "a1.set_ylabel('Testing Techniques', size=12, labelpad=20)\n",
    "a2.set_ylabel('Testing Levels', size=12, labelpad=20)\n",
    "a1.tick_params(labelsize=12.0)\n",
    "a2.tick_params(labelsize=12.0)\n",
    "\n",
    "a1.set_axisbelow(True)\n",
    "a2.set_axisbelow(True)\n",
    "# Set the lines of grid. Can be: dashed, dotted\n",
    "a1.grid(ls='dotted')\n",
    "a2.grid(ls='dotted')\n",
    "\n",
    "# Plot the graph and save it\n",
    "plt.tight_layout()\n",
    "fig = plt.gcf()\n",
    "plt.show()\n",
    "plt.draw()\n",
    "fig.savefig('bubble-plot.png', dpi=200)"
   ]
  }
 ],
 "metadata": {
  "kernelspec": {
   "display_name": "Python 3",
   "language": "python",
   "name": "python3"
  },
  "language_info": {
   "codemirror_mode": {
    "name": "ipython",
    "version": 3
   },
   "file_extension": ".py",
   "mimetype": "text/x-python",
   "name": "python",
   "nbconvert_exporter": "python",
   "pygments_lexer": "ipython3",
   "version": "3.6.5"
  }
 },
 "nbformat": 4,
 "nbformat_minor": 2
}
